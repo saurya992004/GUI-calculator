{
 "cells": [
  {
   "cell_type": "code",
   "execution_count": 1090,
   "id": "3f915c30-3ff5-442d-a1c7-1ac89a3188f7",
   "metadata": {},
   "outputs": [],
   "source": [
    "from tkinter import *"
   ]
  },
  {
   "cell_type": "code",
   "execution_count": 1091,
   "id": "400ff5a9-4298-490a-bed6-c91a32ae2b4a",
   "metadata": {},
   "outputs": [],
   "source": [
    "root = Tk()"
   ]
  },
  {
   "cell_type": "code",
   "execution_count": 1092,
   "id": "77c2863e-3998-425d-995c-1a90b1e9f2ec",
   "metadata": {},
   "outputs": [],
   "source": [
    "first_number=second_number=operator=None\n",
    "def get_digit(digit):\n",
    "    current = result_label['text']\n",
    "    new = current + str(digit)\n",
    "    result_label.config(text=new)\n",
    "\n",
    "def clear():\n",
    "    result_label.config(text='')\n",
    "\n",
    "def get_operator(op):\n",
    "    global first_number,operator\n",
    "    first_number=int(result_label['text'])\n",
    "    operator=op\n",
    "    result_label.config(text='')\n",
    "\n",
    "def get_result():\n",
    "    global first_number,second_number,operator\n",
    "    second_number=int(result_label['text'])\n",
    "    if operator== '+':\n",
    "        result_label.config(text=str(first_number+second_number))\n",
    "    elif operator== '-':\n",
    "        result_label.config(text=str(first_number-second_number))\n",
    "    elif operator== 'x':\n",
    "        result_label.config(text=str(first_number*second_number))\n",
    "    else:\n",
    "        if second_number==0:\n",
    "            result_label.config(text='error')\n",
    "        else:\n",
    "             result_label.config(text=str(first_number/second_number))\n",
    "\n",
    "\n",
    "\n",
    "    \n"
   ]
  },
  {
   "cell_type": "code",
   "execution_count": 1093,
   "id": "37e2197c-03b0-477c-a20e-64a51f9952da",
   "metadata": {},
   "outputs": [
    {
     "data": {
      "text/plain": [
       "''"
      ]
     },
     "execution_count": 1093,
     "metadata": {},
     "output_type": "execute_result"
    }
   ],
   "source": [
    "root.title('calculator')"
   ]
  },
  {
   "cell_type": "code",
   "execution_count": 1094,
   "id": "1cb1e280-c83e-45a6-8eda-3d2328fd6c5c",
   "metadata": {},
   "outputs": [
    {
     "data": {
      "text/plain": [
       "''"
      ]
     },
     "execution_count": 1094,
     "metadata": {},
     "output_type": "execute_result"
    }
   ],
   "source": [
    "root.geometry('280x380')"
   ]
  },
  {
   "cell_type": "code",
   "execution_count": 1095,
   "id": "a03c3624-1346-45a3-a37d-fcbb692f028d",
   "metadata": {},
   "outputs": [],
   "source": [
    "root.configure(background='black')"
   ]
  },
  {
   "cell_type": "code",
   "execution_count": 1096,
   "id": "2059f3e1-e5de-4813-8433-59152969ba77",
   "metadata": {},
   "outputs": [
    {
     "data": {
      "text/plain": [
       "''"
      ]
     },
     "execution_count": 1096,
     "metadata": {},
     "output_type": "execute_result"
    }
   ],
   "source": [
    "root.resizable(0,0)"
   ]
  },
  {
   "cell_type": "code",
   "execution_count": 1097,
   "id": "f038cf20-6744-44f4-9cf7-b6aafca2df12",
   "metadata": {},
   "outputs": [],
   "source": [
    "result_label = Label(root,text='',bg='black',fg='white')\n",
    "\n",
    "result_label.grid(row=0,column=0,columnspan=5,pady=(50,20),sticky = 'w')\n",
    "result_label.config(font=('verdana',28,'bold'))"
   ]
  },
  {
   "cell_type": "code",
   "execution_count": 1098,
   "id": "aecd54af-d9f9-4779-bec5-a87ead00d121",
   "metadata": {},
   "outputs": [],
   "source": [
    "btn7= Button(root,text='7',bg='#00a65a',fg='white',width=5,height=2,command=lambda: get_digit(7))\n",
    "btn7.grid(row=1,column=0)\n",
    "btn7.config(font=('verdana',14))\n",
    "\n"
   ]
  },
  {
   "cell_type": "code",
   "execution_count": 1099,
   "id": "d9364e71-404d-4286-ac78-a34447d5dace",
   "metadata": {},
   "outputs": [],
   "source": [
    "btn8= Button(root,text='8',bg='#00a65a',fg='white',width=5,height=2,command=lambda: get_digit(8))\n",
    "btn8.grid(row=1,column=1)\n",
    "btn8.config(font=('verdana',14))"
   ]
  },
  {
   "cell_type": "code",
   "execution_count": 1100,
   "id": "341cfe9c-7f22-480f-b8c7-68a360700e95",
   "metadata": {},
   "outputs": [],
   "source": [
    "btn9= Button(root,text='9',bg='#00a65a',fg='white',width=5,height=2,command=lambda: get_digit(9))\n",
    "btn9.grid(row=1,column=2)\n",
    "btn9.config(font=('verdana',14))"
   ]
  },
  {
   "cell_type": "code",
   "execution_count": 1101,
   "id": "9396e8ea-76a8-4450-a889-cc8626464419",
   "metadata": {},
   "outputs": [],
   "source": [
    "btn_add= Button(root,text='+',bg='#00a65a',fg='white',width=5,height=2,command =lambda: get_operator('+'))\n",
    "btn_add.grid(row=1,column=3)\n",
    "btn_add.config(font=('verdana',14))"
   ]
  },
  {
   "cell_type": "code",
   "execution_count": 1102,
   "id": "a7a91fa3-60f2-4a14-b2c3-b55ce6904848",
   "metadata": {},
   "outputs": [],
   "source": [
    "btn6= Button(root,text='6',bg='#00a65a',fg='white',width=5,height=2,command=lambda: get_digit(6))\n",
    "btn6.grid(row=2,column=0)\n",
    "btn6.config(font=('verdana',14))\n",
    "\n",
    "btn5= Button(root,text='5',bg='#00a65a',fg='white',width=5,height=2,command=lambda: get_digit(5))\n",
    "btn5.grid(row=2,column=1)\n",
    "btn5.config(font=('verdana',14))\n",
    "\n",
    "btn4= Button(root,text='4',bg='#00a65a',fg='white',width=5,height=2,command=lambda: get_digit(4))\n",
    "btn4.grid(row=2,column=2)\n",
    "btn4.config(font=('verdana',14))\n",
    "\n",
    "btn_sub= Button(root,text='-',bg='#00a65a',fg='white',width=5,height=2,command =lambda: get_operator('-'))\n",
    "btn_sub.grid(row=2,column=3)\n",
    "btn_sub.config(font=('verdana',14))"
   ]
  },
  {
   "cell_type": "code",
   "execution_count": 1103,
   "id": "db80aa3a-dfe5-477a-a656-39dea08a5fa9",
   "metadata": {},
   "outputs": [],
   "source": [
    "btn3= Button(root,text='3',bg='#00a65a',fg='white',width=5,height=2,command=lambda: get_digit(3))\n",
    "btn3.grid(row=3,column=0)\n",
    "btn3.config(font=('verdana',14))\n",
    "\n",
    "btn2= Button(root,text='2',bg='#00a65a',fg='white',width=5,height=2,command=lambda: get_digit(2))\n",
    "btn2.grid(row=3,column=1)\n",
    "btn2.config(font=('verdana',14))\n",
    "\n",
    "btn1= Button(root,text='1',bg='#00a65a',fg='white',width=5,height=2,command=lambda: get_digit(1))\n",
    "btn1.grid(row=3,column=2)\n",
    "btn1.config(font=('verdana',14))\n",
    "\n",
    "btn_ml= Button(root,text='x',bg='#00a65a',fg='white',width=5,height=2,command =lambda: get_operator('x'))\n",
    "btn_ml.grid(row=3,column=3)\n",
    "btn_ml.config(font=('verdana',14))"
   ]
  },
  {
   "cell_type": "code",
   "execution_count": 1104,
   "id": "40bc1ad2-fae3-433a-a195-c7b71cbaf651",
   "metadata": {},
   "outputs": [],
   "source": [
    "btn_clr= Button(root,text='clr',bg='#00a65a',fg='white',width=5,height=2,command=lambda: clear())\n",
    "btn_clr.grid(row=4,column=0)\n",
    "btn_clr.config(font=('verdana',14))\n",
    "\n",
    "btn0= Button(root,text='0',bg='#00a65a',fg='white',width=5,height=2,command=lambda: get_digit(0))\n",
    "btn0.grid(row=4,column=1)\n",
    "btn0.config(font=('verdana',14))\n",
    "\n",
    "btn_eq= Button(root,text='=',bg='#00a65a',fg='white',width=5,height=2,command=get_result)\n",
    "btn_eq.grid(row=4,column=2)\n",
    "btn_eq.config(font=('verdana',14))\n",
    "\n",
    "btn_div= Button(root,text='/',bg='#00a65a',fg='white',width=5,height=2,command =lambda: get_operator('/'))\n",
    "btn_div.grid(row=4,column=3)\n",
    "btn_div.config(font=('verdana',14))"
   ]
  },
  {
   "cell_type": "code",
   "execution_count": null,
   "id": "d491b9d1-5fdd-4677-b431-214b388d6318",
   "metadata": {},
   "outputs": [],
   "source": [
    "root.mainloop()"
   ]
  },
  {
   "cell_type": "code",
   "execution_count": null,
   "id": "f7907548-67ef-4dcc-be6b-e916e0384897",
   "metadata": {},
   "outputs": [],
   "source": []
  },
  {
   "cell_type": "raw",
   "id": "09f6d98a-c021-48c8-9bd7-fa5b37b7660d",
   "metadata": {},
   "source": []
  },
  {
   "cell_type": "code",
   "execution_count": null,
   "id": "dc13fa99-981c-46dc-ac85-5f64e0397f7b",
   "metadata": {},
   "outputs": [],
   "source": []
  },
  {
   "cell_type": "code",
   "execution_count": null,
   "id": "200e8e1b-e628-4280-889b-cf15c9e74056",
   "metadata": {},
   "outputs": [],
   "source": []
  }
 ],
 "metadata": {
  "kernelspec": {
   "display_name": "Python [conda env:base] *",
   "language": "python",
   "name": "conda-base-py"
  },
  "language_info": {
   "codemirror_mode": {
    "name": "ipython",
    "version": 3
   },
   "file_extension": ".py",
   "mimetype": "text/x-python",
   "name": "python",
   "nbconvert_exporter": "python",
   "pygments_lexer": "ipython3",
   "version": "3.12.7"
  }
 },
 "nbformat": 4,
 "nbformat_minor": 5
}
